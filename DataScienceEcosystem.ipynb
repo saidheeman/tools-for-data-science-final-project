{
  "metadata": {
    "kernelspec": {
      "name": "SQLite",
      "display_name": "SQLite",
      "language": "sql"
    },
    "language_info": {
      "codemirror_mode": "sql",
      "file_extension": "",
      "mimetype": "",
      "name": "sql",
      "version": "3.32.3"
    }
  },
  "nbformat_minor": 5,
  "nbformat": 4,
  "cells": [
    {
      "id": "19347f9e-f22d-4335-a904-5a74b00a5695",
      "cell_type": "code",
      "source": "# Tools for Data Science Final Assignment",
      "metadata": {
        "trusted": true
      },
      "outputs": [],
      "execution_count": null
    },
    {
      "id": "8d17be50-c0de-48ed-bcac-adf1a7194953",
      "cell_type": "code",
      "source": "This notebook showcases key tools, languages, libraries, and basic arithmetic operations commonly used in data science using JupyterLite.",
      "metadata": {
        "trusted": true
      },
      "outputs": [],
      "execution_count": null
    },
    {
      "id": "f10e6340-d464-404f-a632-85936d9983d9",
      "cell_type": "code",
      "source": "## Data Science Languages\n\nHere are some common programming languages used in data science:\n\n1. Python  \n2. R  \n3. SQL  \n4. Scala  \n5. Julia\n",
      "metadata": {
        "trusted": true
      },
      "outputs": [],
      "execution_count": null
    },
    {
      "id": "6ceac8b6-9844-4373-9c40-37c967861a2e",
      "cell_type": "code",
      "source": "## Data Science Libraries\n\nPopular data science libraries include:\n\n- Pandas  \n- NumPy  \n- Matplotlib  \n- Scikit-learn  \n- TensorFlow  \n- Seaborn\n",
      "metadata": {
        "trusted": true
      },
      "outputs": [],
      "execution_count": null
    },
    {
      "id": "4ab59a92-20eb-437b-a8b9-9d073cb7c05d",
      "cell_type": "code",
      "source": "## Data Science Tools\n\n| Tool           | Description                          |\n|----------------|--------------------------------------|\n| JupyterLab     | Web-based IDE for interactive notebooks |\n| RStudio        | IDE for R language                   |\n| Apache Zeppelin| Web-based notebook for big data      |\n",
      "metadata": {
        "trusted": true
      },
      "outputs": [],
      "execution_count": null
    },
    {
      "id": "138587d2-f33c-42d9-8401-b52884acb39a",
      "cell_type": "code",
      "source": "## Examples of Evaluating Arithmetic Expressions\n\nBelow are some basic examples of using arithmetic in Python.",
      "metadata": {
        "trusted": true
      },
      "outputs": [],
      "execution_count": null
    },
    {
      "id": "16b6b1f9-e1a1-4984-99e9-7cf0c67f4515",
      "cell_type": "code",
      "source": "# Multiply and add numbers\n(5 * 4) + 3",
      "metadata": {
        "trusted": true
      },
      "outputs": [],
      "execution_count": null
    },
    {
      "id": "31d32806-3435-4f3b-8252-ba944a9bd3d1",
      "cell_type": "code",
      "source": "# Convert minutes to hours\nminutes = 150\nhours = minutes / 60\nhours",
      "metadata": {
        "trusted": true
      },
      "outputs": [],
      "execution_count": null
    },
    {
      "id": "45913847-0fc6-4557-b112-4f9d079dbeca",
      "cell_type": "code",
      "source": "## Objectives\n\n- Learn markdown and code cell usage  \n- List popular data science languages  \n- List commonly used libraries  \n- Display tools in a table  \n- Run arithmetic code examples  \n- Convert time from minutes to hours  \n- Sai Dheeman Pattanayak and https://github.com/saidheeman/tools-for-data-science-final-project",
      "metadata": {
        "trusted": true
      },
      "outputs": [],
      "execution_count": null
    },
    {
      "id": "e961daf2-3e68-4ff2-ae43-90681173bdff",
      "cell_type": "code",
      "source": "## Author\n\nSai Dheeman Pattanayak",
      "metadata": {
        "trusted": true
      },
      "outputs": [],
      "execution_count": null
    },
    {
      "id": "35e61307-896c-4ebc-aff9-129dbce4ef7f",
      "cell_type": "code",
      "source": "## GitHub Link\n\n[Click here to view notebook on GitHub](https://github.com/saidheeman/tools-for-data-science-final-project\n)",
      "metadata": {
        "trusted": true
      },
      "outputs": [],
      "execution_count": null
    }
  ]
}